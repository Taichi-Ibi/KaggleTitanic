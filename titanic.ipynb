{
 "cells": [
  {
   "cell_type": "markdown",
   "id": "894c52b5-1d81-4618-95fa-1883ad268814",
   "metadata": {},
   "source": [
    "# Kaggle Titanic"
   ]
  },
  {
   "cell_type": "markdown",
   "id": "0f7a2391-37b7-40e9-8cf8-7a983e7070b5",
   "metadata": {},
   "source": [
    "## ライブラリのインポート"
   ]
  },
  {
   "cell_type": "code",
   "execution_count": 1,
   "id": "9d0ad078-8807-4ddc-aaea-eb0491cf1a64",
   "metadata": {},
   "outputs": [],
   "source": [
    "import numpy as np\n",
    "import pandas as pd\n",
    "import pydotplus\n",
    "import pydot\n",
    "import lightgbm as lgb\n",
    "import seaborn as sns\n",
    "import matplotlib.pyplot as plt\n",
    "import graphviz\n",
    "# from graphviz import Digraph\n",
    "from sklearn import tree\n",
    "from sklearn.tree import export_graphviz\n",
    "from sklearn.metrics import accuracy_score\n",
    "from sklearn.linear_model import ElasticNet\n",
    "from sklearn.metrics import confusion_matrix\n",
    "from sklearn.preprocessing import LabelEncoder\n",
    "from sklearn.model_selection import train_test_split"
   ]
  },
  {
   "cell_type": "markdown",
   "id": "8121852a-596f-4c32-8d1d-ea6ec6df9658",
   "metadata": {},
   "source": [
    "## データの処理"
   ]
  },
  {
   "cell_type": "code",
   "execution_count": 2,
   "id": "b8fe9ea6-8206-49f2-a9cc-cdb66021201c",
   "metadata": {},
   "outputs": [],
   "source": [
    "train = pd.read_csv('input/train.csv')\n",
    "test = pd.read_csv('input/test.csv')\n",
    "df = pd.concat([train, test], axis=0, sort=False)"
   ]
  },
  {
   "cell_type": "code",
   "execution_count": 3,
   "id": "d1f84a44-3281-4e31-9f67-5992c4534c7b",
   "metadata": {},
   "outputs": [],
   "source": [
    "# 家族の人数 Family Size\n",
    "df['FamilySize'] = df['SibSp'] + df['Parch'] + 1\n",
    "\n",
    "# 家族構成\n",
    "df['Family_1_234_5'] = 0\n",
    "df.loc[df['FamilySize'] ==1, 'Family_1_234_5']  = 0\n",
    "df.loc[(df['FamilySize'] >=2) & (df['FamilySize'] <=4), 'Family_1_234_5']  = 2\n",
    "df.loc[df['FamilySize'] >=5, 'Family_1_234_5']  = 3\n",
    "\n",
    "# 敬称 Title\n",
    "df['Title'] = df.Name.str.extract(' ([A-Za-z]+)\\.',expand=False)\n",
    "# Cabinの1文字目を抽出\n",
    "df['Cabin_init'] = df['Cabin'].str[:1]\n",
    "df['Cabin_init'] = df['Cabin_init'].fillna('U')\n",
    "\n",
    "# Ticketの出現回数順になるのでreset_index。testも振り直しになるので分割後reset_index\n",
    "ticket = pd.DataFrame(df['Ticket'].value_counts(sort=False),index=None)\n",
    "ticket = ticket.reset_index().rename(columns={'Ticket':'Ticket_cnt','index':'Ticket'})\n",
    "df = pd.merge(df,ticket, on='Ticket').sort_values('PassengerId').reset_index(drop=True)\n",
    "\n",
    "# 1人かどうか IsAlone\n",
    "df['IsAlone'] = 0\n",
    "df.loc[df['FamilySize'] >=2, 'IsAlone']  = 1\n",
    "\n",
    "# Fareを25ずつに区分け\n",
    "df['Fare_bin'] = pd.cut(df['Fare'],\n",
    "                        [x for x in range(int(df['Fare'].min()),int(df['Fare'].max()),25)],\n",
    "                        right=False)\n",
    "\n",
    "# Ageを5ずつに区分け\n",
    "df['Age_bin'] = pd.cut(df['Age'],\n",
    "                        [x for x in range(int(df['Age'].min()),int(df['Age'].max()),5)],\n",
    "                        right=False)\n",
    "\n",
    "# Passenger Idを2分割\n",
    "# df['PassengerId_split'] = [0 if x<df['PassengerId'].mean() else 1 for x in df['PassengerId']] \n",
    "\n",
    "# Fareの欠損値に中央値を代入\n",
    "# df['Fare'] = df['Fare'].fillna(df['Fare'].median())\n",
    "\n",
    "# Fareの外れ値を99%内に\n",
    "# df['Fare'] = scipy.stats.mstats.winsorize(df[\"Fare\"], limits=[0.01, 0.01])\n",
    "\n",
    "# Ticketの重複ありを1,それ以外を0にマッピング\n",
    "# df['Ticket'] = df['Ticket'].duplicated()*1\n",
    "# df['Fare'] = pd.qcut(df['Fare'],10)\n",
    "\n",
    "# Cabinの重複ありを1,それ以外を0にマッピング\n",
    "# df['Cabin'] = df['Cabin'].duplicated()*1"
   ]
  },
  {
   "cell_type": "markdown",
   "id": "8a71a300-f18d-4eb2-864a-35c646f9b411",
   "metadata": {},
   "source": [
    "### 欠損値の補完"
   ]
  },
  {
   "cell_type": "code",
   "execution_count": 4,
   "id": "bdf664e1-6498-44c1-b38f-0a8894ddf742",
   "metadata": {},
   "outputs": [],
   "source": [
    "df.loc[(df[\"Title\"].values == 'Mr'  ) & (df[\"Pclass\"].values == 1  ) & (df[\"Age\"].isnull()), \"Age\"] = df.query(\"Title == 'Mr' & Pclass == 1\")[\"Age\"].median()\n",
    "df.loc[(df[\"Title\"].values == 'Mr'  ) & (df[\"Pclass\"].values == 2  ) & (df[\"Age\"].isnull()), \"Age\"] = df.query(\"Title == 'Mr' & Pclass == 2\")[\"Age\"].median()\n",
    "df.loc[(df[\"Title\"].values == 'Mr'  ) & (df[\"Pclass\"].values == 3  ) & (df[\"Age\"].isnull()), \"Age\"] = df.query(\"Title == 'Mr' & Pclass == 3\")[\"Age\"].median()\n",
    "df.loc[(df[\"Title\"].values == 'Mrs'  ) & (df[\"Pclass\"].values == 1  ) & (df[\"Age\"].isnull()), \"Age\"] = df.query(\"Title == 'Mrs' & Pclass == 1\")[\"Age\"].median()\n",
    "df.loc[(df[\"Title\"].values == 'Mrs'  ) & (df[\"Pclass\"].values == 2  ) & (df[\"Age\"].isnull()), \"Age\"] = df.query(\"Title == 'Mrs' & Pclass == 2\")[\"Age\"].median()\n",
    "df.loc[(df[\"Title\"].values == 'Mrs'  ) & (df[\"Pclass\"].values == 3  ) & (df[\"Age\"].isnull()), \"Age\"] = df.query(\"Title == 'Mrs' & Pclass == 3\")[\"Age\"].median()\n",
    "df.loc[(df[\"Title\"].values == 'Miss'  ) & (df[\"Pclass\"].values == 1  ) & (df[\"Age\"].isnull()), \"Age\"] = df.query(\"Title == 'Miss' & Pclass == 1\")[\"Age\"].median()\n",
    "df.loc[(df[\"Title\"].values == 'Miss'  ) & (df[\"Pclass\"].values == 2  ) & (df[\"Age\"].isnull()), \"Age\"] = df.query(\"Title == 'Miss' & Pclass == 2\")[\"Age\"].median()\n",
    "df.loc[(df[\"Title\"].values == 'Miss'  ) & (df[\"Pclass\"].values == 3  ) & (df[\"Age\"].isnull()), \"Age\"] = df.query(\"Title == 'Miss' & Pclass == 3\")[\"Age\"].median()\n",
    "\n",
    "df.loc[(df[\"Title\"].values == 'Ms'      ) & (df[\"Age\"].isnull()), \"Age\"] = df.query(\"Title == 'Ms'      \")[\"Age\"].median()\n",
    "df.loc[(df[\"Title\"].values == 'Dr'      ) & (df[\"Age\"].isnull()), \"Age\"] = df.query(\"Title == 'Dr' & Pclass == 1\")[\"Age\"].median()\n",
    "df.loc[(df[\"Title\"].values == 'Master'  ) & (df[\"Age\"].isnull()), \"Age\"] = df.query(\"Title == 'Master' & Pclass == 3\")[\"Age\"].median()\n",
    "\n",
    "df.loc[(df[\"Title\"].values == 'Mr'  ) & (df[\"Pclass\"].values == 3  ) & (df[\"Fare\"].isnull()), \"Fare\"] = df.query(\"Title == 'Mr' & Pclass == 3\")[\"Fare\"].median()"
   ]
  },
  {
   "cell_type": "code",
   "execution_count": 5,
   "id": "ec76ea7b-3c47-489e-b544-7e9011b1179b",
   "metadata": {},
   "outputs": [],
   "source": [
    "le = LabelEncoder()\n",
    "le.fit(df['Sex'])\n",
    "df['Sex'] = le.transform(df['Sex'])\n",
    "le.fit(df['Embarked'])\n",
    "df['Embarked'] = le.transform(df['Embarked'])\n",
    "le.fit(df['Cabin_init'])\n",
    "df['Cabin_init'] = le.transform(df['Cabin_init'])\n",
    "le.fit(df['Fare_bin'])\n",
    "df['Fare_bin'] = le.transform(df['Fare_bin'])\n",
    "le.fit(df['Age_bin'])\n",
    "df['Age_bin'] = le.transform(df['Age_bin'])\n",
    "le.fit(df['Title'])\n",
    "df['Title'] = le.transform(df['Title'])"
   ]
  },
  {
   "cell_type": "code",
   "execution_count": 6,
   "id": "cc0ec10a-188e-4574-8840-f0a4262d959b",
   "metadata": {},
   "outputs": [
    {
     "data": {
      "text/plain": [
       "PassengerId          0\n",
       "Survived           418\n",
       "Pclass               0\n",
       "Name                 0\n",
       "Sex                  0\n",
       "Age                  0\n",
       "SibSp                0\n",
       "Parch                0\n",
       "Ticket               0\n",
       "Fare                 0\n",
       "Cabin             1014\n",
       "Embarked             0\n",
       "FamilySize           0\n",
       "Family_1_234_5       0\n",
       "Title                0\n",
       "Cabin_init           0\n",
       "Ticket_cnt           0\n",
       "IsAlone              0\n",
       "Fare_bin             0\n",
       "Age_bin              0\n",
       "dtype: int64"
      ]
     },
     "execution_count": 6,
     "metadata": {},
     "output_type": "execute_result"
    }
   ],
   "source": [
    "df.isnull().sum()"
   ]
  },
  {
   "cell_type": "code",
   "execution_count": 7,
   "id": "3badba29-d895-48a7-b281-eed7d5a63f15",
   "metadata": {},
   "outputs": [],
   "source": [
    "df.drop([\n",
    "         # 'PassengerId', \n",
    "         # 'Survived', \n",
    "         # 'Pclass', \n",
    "         'Name', \n",
    "         # 'Sex', \n",
    "         # 'Age', \n",
    "         # 'SibSp',\n",
    "         # 'Parch', \n",
    "         'Ticket', \n",
    "         # 'Fare', \n",
    "         'Cabin', \n",
    "         # 'Embarked', \n",
    "         # 'FamilySize', \n",
    "         # 'Title',\n",
    "         # 'Cabin_init',         \n",
    "         # 'Ticket_cnt',\n",
    "         'IsAlone',\n",
    "         'Family_1_234_5',\n",
    "         'Age_bin',\n",
    "         'Fare_bin',\n",
    "        ], axis=1, inplace=True)"
   ]
  },
  {
   "cell_type": "code",
   "execution_count": 8,
   "id": "aab9e428-5e9d-46b2-9820-9db1738662d4",
   "metadata": {},
   "outputs": [
    {
     "data": {
      "text/html": [
       "<div>\n",
       "<style scoped>\n",
       "    .dataframe tbody tr th:only-of-type {\n",
       "        vertical-align: middle;\n",
       "    }\n",
       "\n",
       "    .dataframe tbody tr th {\n",
       "        vertical-align: top;\n",
       "    }\n",
       "\n",
       "    .dataframe thead th {\n",
       "        text-align: right;\n",
       "    }\n",
       "</style>\n",
       "<table border=\"1\" class=\"dataframe\">\n",
       "  <thead>\n",
       "    <tr style=\"text-align: right;\">\n",
       "      <th></th>\n",
       "      <th>PassengerId</th>\n",
       "      <th>Survived</th>\n",
       "      <th>Pclass</th>\n",
       "      <th>Sex</th>\n",
       "      <th>Age</th>\n",
       "      <th>SibSp</th>\n",
       "      <th>Parch</th>\n",
       "      <th>Fare</th>\n",
       "      <th>Embarked</th>\n",
       "      <th>FamilySize</th>\n",
       "      <th>Title</th>\n",
       "      <th>Cabin_init</th>\n",
       "      <th>Ticket_cnt</th>\n",
       "    </tr>\n",
       "  </thead>\n",
       "  <tbody>\n",
       "    <tr>\n",
       "      <th>1304</th>\n",
       "      <td>1305</td>\n",
       "      <td>NaN</td>\n",
       "      <td>3</td>\n",
       "      <td>1</td>\n",
       "      <td>26.0</td>\n",
       "      <td>0</td>\n",
       "      <td>0</td>\n",
       "      <td>8.0500</td>\n",
       "      <td>2</td>\n",
       "      <td>1</td>\n",
       "      <td>13</td>\n",
       "      <td>8</td>\n",
       "      <td>1</td>\n",
       "    </tr>\n",
       "    <tr>\n",
       "      <th>1305</th>\n",
       "      <td>1306</td>\n",
       "      <td>NaN</td>\n",
       "      <td>1</td>\n",
       "      <td>0</td>\n",
       "      <td>39.0</td>\n",
       "      <td>0</td>\n",
       "      <td>0</td>\n",
       "      <td>108.9000</td>\n",
       "      <td>0</td>\n",
       "      <td>1</td>\n",
       "      <td>4</td>\n",
       "      <td>2</td>\n",
       "      <td>3</td>\n",
       "    </tr>\n",
       "    <tr>\n",
       "      <th>1306</th>\n",
       "      <td>1307</td>\n",
       "      <td>NaN</td>\n",
       "      <td>3</td>\n",
       "      <td>1</td>\n",
       "      <td>38.5</td>\n",
       "      <td>0</td>\n",
       "      <td>0</td>\n",
       "      <td>7.2500</td>\n",
       "      <td>2</td>\n",
       "      <td>1</td>\n",
       "      <td>13</td>\n",
       "      <td>8</td>\n",
       "      <td>1</td>\n",
       "    </tr>\n",
       "    <tr>\n",
       "      <th>1307</th>\n",
       "      <td>1308</td>\n",
       "      <td>NaN</td>\n",
       "      <td>3</td>\n",
       "      <td>1</td>\n",
       "      <td>26.0</td>\n",
       "      <td>0</td>\n",
       "      <td>0</td>\n",
       "      <td>8.0500</td>\n",
       "      <td>2</td>\n",
       "      <td>1</td>\n",
       "      <td>13</td>\n",
       "      <td>8</td>\n",
       "      <td>1</td>\n",
       "    </tr>\n",
       "    <tr>\n",
       "      <th>1308</th>\n",
       "      <td>1309</td>\n",
       "      <td>NaN</td>\n",
       "      <td>3</td>\n",
       "      <td>1</td>\n",
       "      <td>6.0</td>\n",
       "      <td>1</td>\n",
       "      <td>1</td>\n",
       "      <td>22.3583</td>\n",
       "      <td>0</td>\n",
       "      <td>3</td>\n",
       "      <td>9</td>\n",
       "      <td>8</td>\n",
       "      <td>3</td>\n",
       "    </tr>\n",
       "  </tbody>\n",
       "</table>\n",
       "</div>"
      ],
      "text/plain": [
       "      PassengerId  Survived  Pclass  Sex   Age  SibSp  Parch      Fare  \\\n",
       "1304         1305       NaN       3    1  26.0      0      0    8.0500   \n",
       "1305         1306       NaN       1    0  39.0      0      0  108.9000   \n",
       "1306         1307       NaN       3    1  38.5      0      0    7.2500   \n",
       "1307         1308       NaN       3    1  26.0      0      0    8.0500   \n",
       "1308         1309       NaN       3    1   6.0      1      1   22.3583   \n",
       "\n",
       "      Embarked  FamilySize  Title  Cabin_init  Ticket_cnt  \n",
       "1304         2           1     13           8           1  \n",
       "1305         0           1      4           2           3  \n",
       "1306         2           1     13           8           1  \n",
       "1307         2           1     13           8           1  \n",
       "1308         0           3      9           8           3  "
      ]
     },
     "execution_count": 8,
     "metadata": {},
     "output_type": "execute_result"
    }
   ],
   "source": [
    "df.tail()"
   ]
  },
  {
   "cell_type": "markdown",
   "id": "0a3dd87e-d210-4ada-ae7c-7bac3ce14c06",
   "metadata": {},
   "source": [
    "## データの可視化"
   ]
  },
  {
   "cell_type": "code",
   "execution_count": 9,
   "id": "61a4bccf-2aef-4c62-9d8b-fa1a8bca679e",
   "metadata": {},
   "outputs": [],
   "source": [
    "train = df.iloc[:len(train),:].copy()\n",
    "train['Survived'] = train['Survived'].astype('int64')"
   ]
  },
  {
   "cell_type": "code",
   "execution_count": 10,
   "id": "bec60e68-bbf4-47c0-bec4-084324059405",
   "metadata": {},
   "outputs": [],
   "source": [
    "test = df.iloc[len(train):,:].copy()\n",
    "test.drop(['Survived'], axis=1, inplace=True)\n",
    "test = test.reset_index(drop=True)"
   ]
  },
  {
   "cell_type": "markdown",
   "id": "af67fa71-de87-4d56-b52f-d3164c6577a0",
   "metadata": {},
   "source": [
    "## モデルの学習・予測"
   ]
  },
  {
   "cell_type": "code",
   "execution_count": 11,
   "id": "291162d1-810e-49f3-9f49-e6c2723a1bdd",
   "metadata": {},
   "outputs": [],
   "source": [
    "X_train = train.drop(['Survived'], axis=1)\n",
    "Y_train = train['Survived']\n",
    "\n",
    "train_x, valid_x, train_y, valid_y = train_test_split(X_train, Y_train, test_size=0.33, random_state=0)"
   ]
  },
  {
   "cell_type": "code",
   "execution_count": 12,
   "id": "890e35e3-7d8e-4ebe-941a-38aa6a1137ea",
   "metadata": {},
   "outputs": [
    {
     "name": "stdout",
     "output_type": "stream",
     "text": [
      "[10]\tvalid_0's binary_logloss: 0.445408\n",
      "[20]\tvalid_0's binary_logloss: 0.395231\n",
      "[30]\tvalid_0's binary_logloss: 0.384298\n",
      "[40]\tvalid_0's binary_logloss: 0.376449\n",
      "[50]\tvalid_0's binary_logloss: 0.377981\n"
     ]
    },
    {
     "name": "stderr",
     "output_type": "stream",
     "text": [
      "/Users/estyle-085/opt/anaconda3/envs/Kenshu/lib/python3.9/site-packages/lightgbm/sklearn.py:726: UserWarning: 'early_stopping_rounds' argument is deprecated and will be removed in a future release of LightGBM. Pass 'early_stopping()' callback via 'callbacks' argument instead.\n",
      "  _log_warning(\"'early_stopping_rounds' argument is deprecated and will be removed in a future release of LightGBM. \"\n",
      "/Users/estyle-085/opt/anaconda3/envs/Kenshu/lib/python3.9/site-packages/lightgbm/sklearn.py:736: UserWarning: 'verbose' argument is deprecated and will be removed in a future release of LightGBM. Pass 'log_evaluation()' callback via 'callbacks' argument instead.\n",
      "  _log_warning(\"'verbose' argument is deprecated and will be removed in a future release of LightGBM. \"\n",
      "/Users/estyle-085/opt/anaconda3/envs/Kenshu/lib/python3.9/site-packages/lightgbm/basic.py:2065: UserWarning: Using categorical_feature in Dataset.\n",
      "  _log_warning('Using categorical_feature in Dataset.')\n",
      "/Users/estyle-085/opt/anaconda3/envs/Kenshu/lib/python3.9/site-packages/lightgbm/basic.py:2068: UserWarning: categorical_feature in Dataset is overridden.\n",
      "New categorical_feature is ['Cabin_init', 'Embarked', 'Parch', 'PassengerId', 'Pclass', 'Sex', 'SibSp', 'Ticket_cnt', 'Title']\n",
      "  _log_warning('categorical_feature in Dataset is overridden.\\n'\n",
      "/Users/estyle-085/opt/anaconda3/envs/Kenshu/lib/python3.9/site-packages/lightgbm/basic.py:1780: UserWarning: Overriding the parameters from Reference Dataset.\n",
      "  _log_warning('Overriding the parameters from Reference Dataset.')\n",
      "/Users/estyle-085/opt/anaconda3/envs/Kenshu/lib/python3.9/site-packages/lightgbm/basic.py:1513: UserWarning: categorical_column in param dict is overridden.\n",
      "  _log_warning(f'{cat_alias} in param dict is overridden.')\n"
     ]
    }
   ],
   "source": [
    "gbm = lgb.LGBMClassifier(\n",
    "    objective='binary',\n",
    "    max_depth=-1,   \n",
    "    num_leaves=64,\n",
    "    min_child_samples=20,\n",
    "\n",
    ")\n",
    "\n",
    "gbm = gbm.fit(train_x, train_y, eval_set = [(valid_x, valid_y)],\n",
    "        categorical_feature=[\n",
    "            'PassengerId', \n",
    "            # 'Survived', \n",
    "            'Pclass', \n",
    "            # 'Name', \n",
    "            'Sex', \n",
    "            # 'Age', \n",
    "            'SibSp',\n",
    "            'Parch', \n",
    "            # 'Ticket', \n",
    "            # 'Fare', \n",
    "            # 'Cabin', \n",
    "            'Embarked', \n",
    "            # 'FamilySize',\n",
    "            # 'Family_1_234_5',\n",
    "            # 'IsAlone',\n",
    "            'Title',\n",
    "            'Cabin_init',\n",
    "            # 'PassengerId_split', \n",
    "            'Ticket_cnt'\n",
    "            # 'Fare_bin'\n",
    "        ],\n",
    "        early_stopping_rounds=20, verbose=10\n",
    "       )"
   ]
  },
  {
   "cell_type": "code",
   "execution_count": 13,
   "id": "ebcebc93-e67d-4b42-89be-c883cebd523d",
   "metadata": {},
   "outputs": [
    {
     "name": "stdout",
     "output_type": "stream",
     "text": [
      "score 83.39\n"
     ]
    }
   ],
   "source": [
    "oof = gbm.predict(valid_x, num_iteration=gbm.best_iteration_)\n",
    "print('score',round(accuracy_score(valid_y,oof)*100,2))"
   ]
  },
  {
   "cell_type": "code",
   "execution_count": 14,
   "id": "3e78d4e0-bf7e-4bcb-be64-4134fc72bd9e",
   "metadata": {},
   "outputs": [
    {
     "ename": "ImportError",
     "evalue": "cannot import name 'Digraph' from 'graphviz' (unknown location)",
     "output_type": "error",
     "traceback": [
      "\u001b[0;31m---------------------------------------------------------------------------\u001b[0m",
      "\u001b[0;31mImportError\u001b[0m                               Traceback (most recent call last)",
      "\u001b[0;32m/var/folders/83/_g6bdl9112v0jvxbvhjfsyk00000gn/T/ipykernel_19850/2840889813.py\u001b[0m in \u001b[0;36m<module>\u001b[0;34m\u001b[0m\n\u001b[0;32m----> 1\u001b[0;31m \u001b[0max\u001b[0m \u001b[0;34m=\u001b[0m \u001b[0mlgb\u001b[0m\u001b[0;34m.\u001b[0m\u001b[0mplot_tree\u001b[0m\u001b[0;34m(\u001b[0m\u001b[0mgbm\u001b[0m\u001b[0;34m,\u001b[0m \u001b[0mtree_index\u001b[0m\u001b[0;34m=\u001b[0m\u001b[0;36m0\u001b[0m\u001b[0;34m,\u001b[0m \u001b[0mfigsize\u001b[0m\u001b[0;34m=\u001b[0m\u001b[0;34m(\u001b[0m\u001b[0;36m20\u001b[0m\u001b[0;34m,\u001b[0m \u001b[0;36m20\u001b[0m\u001b[0;34m)\u001b[0m\u001b[0;34m,\u001b[0m \u001b[0mshow_info\u001b[0m\u001b[0;34m=\u001b[0m\u001b[0;34m[\u001b[0m\u001b[0;34m'data_percentage'\u001b[0m\u001b[0;34m,\u001b[0m\u001b[0;34m'split_gain'\u001b[0m\u001b[0;34m]\u001b[0m\u001b[0;34m)\u001b[0m\u001b[0;34m\u001b[0m\u001b[0;34m\u001b[0m\u001b[0m\n\u001b[0m\u001b[1;32m      2\u001b[0m \u001b[0mgraph\u001b[0m \u001b[0;34m=\u001b[0m \u001b[0mlgb\u001b[0m\u001b[0;34m.\u001b[0m\u001b[0mcreate_tree_digraph\u001b[0m\u001b[0;34m(\u001b[0m\u001b[0mgbm\u001b[0m\u001b[0;34m,\u001b[0m \u001b[0mtree_index\u001b[0m\u001b[0;34m=\u001b[0m\u001b[0;36m0\u001b[0m\u001b[0;34m,\u001b[0m \u001b[0mformat\u001b[0m\u001b[0;34m=\u001b[0m\u001b[0;34m'png'\u001b[0m\u001b[0;34m,\u001b[0m \u001b[0mname\u001b[0m\u001b[0;34m=\u001b[0m\u001b[0;34m'Tree'\u001b[0m\u001b[0;34m)\u001b[0m\u001b[0;34m\u001b[0m\u001b[0;34m\u001b[0m\u001b[0m\n",
      "\u001b[0;32m~/opt/anaconda3/envs/Kenshu/lib/python3.9/site-packages/lightgbm/plotting.py\u001b[0m in \u001b[0;36mplot_tree\u001b[0;34m(booster, ax, tree_index, figsize, dpi, show_info, precision, orientation, **kwargs)\u001b[0m\n\u001b[1;32m    682\u001b[0m         \u001b[0m_\u001b[0m\u001b[0;34m,\u001b[0m \u001b[0max\u001b[0m \u001b[0;34m=\u001b[0m \u001b[0mplt\u001b[0m\u001b[0;34m.\u001b[0m\u001b[0msubplots\u001b[0m\u001b[0;34m(\u001b[0m\u001b[0;36m1\u001b[0m\u001b[0;34m,\u001b[0m \u001b[0;36m1\u001b[0m\u001b[0;34m,\u001b[0m \u001b[0mfigsize\u001b[0m\u001b[0;34m=\u001b[0m\u001b[0mfigsize\u001b[0m\u001b[0;34m,\u001b[0m \u001b[0mdpi\u001b[0m\u001b[0;34m=\u001b[0m\u001b[0mdpi\u001b[0m\u001b[0;34m)\u001b[0m\u001b[0;34m\u001b[0m\u001b[0;34m\u001b[0m\u001b[0m\n\u001b[1;32m    683\u001b[0m \u001b[0;34m\u001b[0m\u001b[0m\n\u001b[0;32m--> 684\u001b[0;31m     graph = create_tree_digraph(booster=booster, tree_index=tree_index,\n\u001b[0m\u001b[1;32m    685\u001b[0m                                 \u001b[0mshow_info\u001b[0m\u001b[0;34m=\u001b[0m\u001b[0mshow_info\u001b[0m\u001b[0;34m,\u001b[0m \u001b[0mprecision\u001b[0m\u001b[0;34m=\u001b[0m\u001b[0mprecision\u001b[0m\u001b[0;34m,\u001b[0m\u001b[0;34m\u001b[0m\u001b[0;34m\u001b[0m\u001b[0m\n\u001b[1;32m    686\u001b[0m                                 orientation=orientation, **kwargs)\n",
      "\u001b[0;32m~/opt/anaconda3/envs/Kenshu/lib/python3.9/site-packages/lightgbm/plotting.py\u001b[0m in \u001b[0;36mcreate_tree_digraph\u001b[0;34m(booster, tree_index, show_info, precision, orientation, **kwargs)\u001b[0m\n\u001b[1;32m    600\u001b[0m         \u001b[0mshow_info\u001b[0m \u001b[0;34m=\u001b[0m \u001b[0;34m[\u001b[0m\u001b[0;34m]\u001b[0m\u001b[0;34m\u001b[0m\u001b[0;34m\u001b[0m\u001b[0m\n\u001b[1;32m    601\u001b[0m \u001b[0;34m\u001b[0m\u001b[0m\n\u001b[0;32m--> 602\u001b[0;31m     graph = _to_graphviz(tree_info, show_info, feature_names, precision,\n\u001b[0m\u001b[1;32m    603\u001b[0m                          orientation, monotone_constraints, **kwargs)\n\u001b[1;32m    604\u001b[0m \u001b[0;34m\u001b[0m\u001b[0m\n",
      "\u001b[0;32m~/opt/anaconda3/envs/Kenshu/lib/python3.9/site-packages/lightgbm/plotting.py\u001b[0m in \u001b[0;36m_to_graphviz\u001b[0;34m(tree_info, show_info, feature_names, precision, orientation, constraints, **kwargs)\u001b[0m\n\u001b[1;32m    435\u001b[0m     \"\"\"\n\u001b[1;32m    436\u001b[0m     \u001b[0;32mif\u001b[0m \u001b[0mGRAPHVIZ_INSTALLED\u001b[0m\u001b[0;34m:\u001b[0m\u001b[0;34m\u001b[0m\u001b[0;34m\u001b[0m\u001b[0m\n\u001b[0;32m--> 437\u001b[0;31m         \u001b[0;32mfrom\u001b[0m \u001b[0mgraphviz\u001b[0m \u001b[0;32mimport\u001b[0m \u001b[0mDigraph\u001b[0m\u001b[0;34m\u001b[0m\u001b[0;34m\u001b[0m\u001b[0m\n\u001b[0m\u001b[1;32m    438\u001b[0m     \u001b[0;32melse\u001b[0m\u001b[0;34m:\u001b[0m\u001b[0;34m\u001b[0m\u001b[0;34m\u001b[0m\u001b[0m\n\u001b[1;32m    439\u001b[0m         \u001b[0;32mraise\u001b[0m \u001b[0mImportError\u001b[0m\u001b[0;34m(\u001b[0m\u001b[0;34m'You must install graphviz and restart your session to plot tree.'\u001b[0m\u001b[0;34m)\u001b[0m\u001b[0;34m\u001b[0m\u001b[0;34m\u001b[0m\u001b[0m\n",
      "\u001b[0;31mImportError\u001b[0m: cannot import name 'Digraph' from 'graphviz' (unknown location)"
     ]
    },
    {
     "data": {
      "image/png": "[encoded data removed]",
      "text/plain": [
       "<Figure size 1440x1440 with 1 Axes>"
      ]
     },
     "metadata": {
      "needs_background": "light"
     },
     "output_type": "display_data"
    }
   ],
   "source": [
    "ax = lgb.plot_tree(gbm, tree_index=0, figsize=(20, 20), show_info=['data_percentage','split_gain'])\n",
    "graph = lgb.create_tree_digraph(gbm, tree_index=0, format='png', name='Tree')"
   ]
  },
  {
   "cell_type": "code",
   "execution_count": 15,
   "id": "0337af67-c604-4420-af1e-d9c3f31bf989",
   "metadata": {},
   "outputs": [
    {
     "data": {
      "text/plain": [
       "<AxesSubplot:>"
      ]
     },
     "execution_count": 15,
     "metadata": {},
     "output_type": "execute_result"
    },
    {
     "data": {
      "image/png": "[encoded data removed]",
      "text/plain": [
       "<Figure size 432x288 with 2 Axes>"
      ]
     },
     "metadata": {
      "needs_background": "light"
     },
     "output_type": "display_data"
    }
   ],
   "source": [
    "cm = confusion_matrix(valid_y, oof)\n",
    "cm_matrix = pd.DataFrame(data=cm, columns=['Actual Positive:1', 'Actual Negative:0'], \n",
    "                                 index=['Predict Positive:1', 'Predict Negative:0'])\n",
    "\n",
    "sns.heatmap(cm_matrix, annot=True, fmt='d', cmap='YlGnBu')"
   ]
  },
  {
   "cell_type": "code",
   "execution_count": 16,
   "id": "dc858967-b127-4e9d-ade9-a5b3d1a28588",
   "metadata": {},
   "outputs": [
    {
     "data": {
      "text/html": [
       "<div>\n",
       "<style scoped>\n",
       "    .dataframe tbody tr th:only-of-type {\n",
       "        vertical-align: middle;\n",
       "    }\n",
       "\n",
       "    .dataframe tbody tr th {\n",
       "        vertical-align: top;\n",
       "    }\n",
       "\n",
       "    .dataframe thead th {\n",
       "        text-align: right;\n",
       "    }\n",
       "</style>\n",
       "<table border=\"1\" class=\"dataframe\">\n",
       "  <thead>\n",
       "    <tr style=\"text-align: right;\">\n",
       "      <th></th>\n",
       "      <th>特徴</th>\n",
       "      <th>importance</th>\n",
       "    </tr>\n",
       "  </thead>\n",
       "  <tbody>\n",
       "    <tr>\n",
       "      <th>2</th>\n",
       "      <td>Sex</td>\n",
       "      <td>969.995804</td>\n",
       "    </tr>\n",
       "    <tr>\n",
       "      <th>3</th>\n",
       "      <td>Age</td>\n",
       "      <td>570.042197</td>\n",
       "    </tr>\n",
       "    <tr>\n",
       "      <th>6</th>\n",
       "      <td>Fare</td>\n",
       "      <td>424.979620</td>\n",
       "    </tr>\n",
       "    <tr>\n",
       "      <th>1</th>\n",
       "      <td>Pclass</td>\n",
       "      <td>298.511323</td>\n",
       "    </tr>\n",
       "    <tr>\n",
       "      <th>8</th>\n",
       "      <td>FamilySize</td>\n",
       "      <td>111.166490</td>\n",
       "    </tr>\n",
       "    <tr>\n",
       "      <th>7</th>\n",
       "      <td>Embarked</td>\n",
       "      <td>92.766746</td>\n",
       "    </tr>\n",
       "    <tr>\n",
       "      <th>9</th>\n",
       "      <td>Title</td>\n",
       "      <td>57.439748</td>\n",
       "    </tr>\n",
       "    <tr>\n",
       "      <th>10</th>\n",
       "      <td>Cabin_init</td>\n",
       "      <td>14.403841</td>\n",
       "    </tr>\n",
       "    <tr>\n",
       "      <th>11</th>\n",
       "      <td>Ticket_cnt</td>\n",
       "      <td>7.642742</td>\n",
       "    </tr>\n",
       "    <tr>\n",
       "      <th>0</th>\n",
       "      <td>PassengerId</td>\n",
       "      <td>0.000000</td>\n",
       "    </tr>\n",
       "    <tr>\n",
       "      <th>4</th>\n",
       "      <td>SibSp</td>\n",
       "      <td>0.000000</td>\n",
       "    </tr>\n",
       "    <tr>\n",
       "      <th>5</th>\n",
       "      <td>Parch</td>\n",
       "      <td>0.000000</td>\n",
       "    </tr>\n",
       "  </tbody>\n",
       "</table>\n",
       "</div>"
      ],
      "text/plain": [
       "             特徴  importance\n",
       "2           Sex  969.995804\n",
       "3           Age  570.042197\n",
       "6          Fare  424.979620\n",
       "1        Pclass  298.511323\n",
       "8    FamilySize  111.166490\n",
       "7      Embarked   92.766746\n",
       "9         Title   57.439748\n",
       "10   Cabin_init   14.403841\n",
       "11   Ticket_cnt    7.642742\n",
       "0   PassengerId    0.000000\n",
       "4         SibSp    0.000000\n",
       "5         Parch    0.000000"
      ]
     },
     "execution_count": 16,
     "metadata": {},
     "output_type": "execute_result"
    }
   ],
   "source": [
    "pd.DataFrame({'特徴':X_train.columns,\n",
    "             'importance':gbm.booster_.feature_importance(importance_type='gain')}).sort_values('importance',ascending=False)"
   ]
  },
  {
   "cell_type": "code",
   "execution_count": 17,
   "id": "0085bcb1-17fd-403b-961e-eb4ada3128b5",
   "metadata": {},
   "outputs": [
    {
     "data": {
      "text/plain": [
       "0.361244019138756"
      ]
     },
     "execution_count": 17,
     "metadata": {},
     "output_type": "execute_result"
    }
   ],
   "source": [
    "test_pred = gbm.predict(test, num_iteration=gbm.best_iteration_)\n",
    "test_pred = pd.DataFrame(test_pred,  columns=['Survived'])\n",
    "submission = pd.DataFrame(test['PassengerId'])\n",
    "submission = pd.concat([submission, test_pred], axis=1)\n",
    "\n",
    "submission['Survived'].sum()/submission['Survived'].count()"
   ]
  },
  {
   "cell_type": "code",
   "execution_count": 18,
   "id": "59177e1f-b6a9-4ed0-96eb-89dd025acdfd",
   "metadata": {},
   "outputs": [],
   "source": [
    "submission.to_csv('output/submission.csv',index=False)"
   ]
  },
  {
   "cell_type": "code",
   "execution_count": null,
   "id": "eb35cbdb-7a8d-42fe-bd1b-cd14f12ce3ba",
   "metadata": {},
   "outputs": [],
   "source": []
  }
 ],
 "metadata": {
  "kernelspec": {
   "display_name": "Python 3 (ipykernel)",
   "language": "python",
   "name": "python3"
  },
  "language_info": {
   "codemirror_mode": {
    "name": "ipython",
    "version": 3
   },
   "file_extension": ".py",
   "mimetype": "text/x-python",
   "name": "python",
   "nbconvert_exporter": "python",
   "pygments_lexer": "ipython3",
   "version": "3.9.7"
  }
 },
 "nbformat": 4,
 "nbformat_minor": 5
}

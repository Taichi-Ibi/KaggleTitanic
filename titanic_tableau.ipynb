{
 "cells": [
  {
   "cell_type": "markdown",
   "id": "894c52b5-1d81-4618-95fa-1883ad268814",
   "metadata": {},
   "source": [
    "# Kaggle Titanic"
   ]
  },
  {
   "cell_type": "markdown",
   "id": "0f7a2391-37b7-40e9-8cf8-7a983e7070b5",
   "metadata": {},
   "source": [
    "## ライブラリのインポート"
   ]
  },
  {
   "cell_type": "code",
   "execution_count": 540,
   "id": "c1daac42-a835-4a2a-ad3c-b7a3a497306a",
   "metadata": {},
   "outputs": [],
   "source": [
    "import numpy as np\n",
    "import pandas as pd\n",
    "import lightgbm as lgb\n",
    "import seaborn as sns\n",
    "import scipy\n",
    "import matplotlib.pyplot as plt\n",
    "from sklearn.metrics import accuracy_score\n",
    "from sklearn.linear_model import ElasticNet\n",
    "from sklearn.metrics import confusion_matrix\n",
    "from sklearn.preprocessing import LabelEncoder\n",
    "from sklearn.model_selection import train_test_split"
   ]
  },
  {
   "cell_type": "markdown",
   "id": "8121852a-596f-4c32-8d1d-ea6ec6df9658",
   "metadata": {},
   "source": [
    "## データの処理"
   ]
  },
  {
   "cell_type": "code",
   "execution_count": 541,
   "id": "b8fe9ea6-8206-49f2-a9cc-cdb66021201c",
   "metadata": {},
   "outputs": [],
   "source": [
    "train = pd.read_csv('../input/train.csv')\n",
    "test = pd.read_csv('../input/test.csv')\n",
    "df = pd.concat([train, test], axis=0, sort=False)"
   ]
  },
  {
   "cell_type": "code",
   "execution_count": 542,
   "id": "d94f2436-302e-420d-bd66-a5d7e23476b6",
   "metadata": {},
   "outputs": [
    {
     "data": {
      "text/plain": [
       "PassengerId       0\n",
       "Survived        418\n",
       "Pclass            0\n",
       "Name              0\n",
       "Sex               0\n",
       "Age             263\n",
       "SibSp             0\n",
       "Parch             0\n",
       "Ticket            0\n",
       "Fare              1\n",
       "Cabin          1014\n",
       "Embarked          2\n",
       "dtype: int64"
      ]
     },
     "execution_count": 542,
     "metadata": {},
     "output_type": "execute_result"
    }
   ],
   "source": [
    "df.isnull().sum()"
   ]
  },
  {
   "cell_type": "markdown",
   "id": "ab7dc627-2abe-4d67-97c2-d5fd88e80a80",
   "metadata": {},
   "source": [
    "### 特徴量生成 (不可逆)"
   ]
  },
  {
   "cell_type": "code",
   "execution_count": 543,
   "id": "a9145577-7230-4717-b027-284335903b62",
   "metadata": {},
   "outputs": [],
   "source": [
    "# 家族の人数 Family Size\n",
    "df['FamilySize'] = df['SibSp'] + df['Parch'] + 1\n",
    "# 敬称 Title\n",
    "df['Title'] = df.Name.str.extract(' ([A-Za-z]+)\\.',expand=False)\n",
    "# Cabinの1文字目を抽出\n",
    "df['Cabin_init'] = df['Cabin'].str[:1]\n",
    "df['Cabin_init'] = df['Cabin_init'].fillna('U')\n",
    "# Fareの欠損値に中央値を代入\n",
    "# df['Fare'] = df['Fare'].fillna(df['Fare'].median())\n",
    "# Fareの外れ値を99%内に\n",
    "df['Fare'] = scipy.stats.mstats.winsorize(df[\"Fare\"], limits=[0.01, 0.01])\n",
    "# Ticketの重複ありを1,それ以外を0にマッピング\n",
    "\n",
    "# df['Ticket'] = df['Ticket'].duplicated()*1\n",
    "# df['Fare'] = pd.qcut(df['Fare'],10)\n",
    "# df.describe()\n",
    "\n",
    "# bins = list(range(0,100,10))\n",
    "# s = pd.cut(df['Fare'], bins).value_counts().sort_index()\n",
    "# display(s)\n",
    "\n",
    "# Cabinの重複ありを1,それ以外を0にマッピング\n",
    "# df['Cabin'] = df['Cabin'].duplicated()*1\n",
    "# Ticketを出現回数に変換\n",
    "# Ticketの出現回数順になるのでreset_index。testも振り直しになるので分割後reset_index\n",
    "ticket = pd.DataFrame(df['Ticket'].value_counts(sort=False),index=None)\n",
    "ticket = ticket.reset_index().rename(columns={'Ticket':'Ticket_cnt','index':'Ticket'})\n",
    "df = pd.merge(df,ticket, on='Ticket').sort_values('PassengerId').reset_index(drop=True)"
   ]
  },
  {
   "cell_type": "code",
   "execution_count": 544,
   "id": "d1f84a44-3281-4e31-9f67-5992c4534c7b",
   "metadata": {},
   "outputs": [],
   "source": [
    "# カテゴリ(数値の大小が意味を持たず、数値を入れ替えても支障ない変数)\n",
    "# Tableauで可視化するときはコメントアウト\n",
    "# le = LabelEncoder()\n",
    "# le.fit(df['Sex'])\n",
    "# df['Sex'] = le.transform(df['Sex'])\n",
    "# le.fit(df['Embarked'])\n",
    "# df['Embarked'] = le.transform(df['Embarked'])\n",
    "# le.fit(df['Cabin'])\n",
    "# df['Cabin'] = le.transform(df['Cabin'])\n",
    "# # df['Cabin'] = [1 if x>1 else 0 for x in df['Cabin']] #Cabin 1以上の場合は全て1\n",
    "# le.fit(df['Title'])\n",
    "# df['Title'] = le.transform(df['Title'])\n",
    "\n",
    "# def title_to_num(title):\n",
    "#     if title == 'Master':\n",
    "#         return 1\n",
    "#     elif title == 'Miss':\n",
    "#         return 2\n",
    "#     elif title == 'Mr':\n",
    "#         return 3\n",
    "#     elif title == 'Mrs':\n",
    "#         return 4\n",
    "#     else:\n",
    "#         return 5\n",
    "# df['Title_num'] = [title_to_num(i) for i in df['Title']]"
   ]
  },
  {
   "cell_type": "code",
   "execution_count": 545,
   "id": "dcba9e6f-6aa3-44e6-8fa1-0f736ec58e7e",
   "metadata": {},
   "outputs": [],
   "source": [
    "# Ageの欠損値に0を代入\n",
    "df['Age'] = df['Age'].fillna(100).copy()"
   ]
  },
  {
   "cell_type": "code",
   "execution_count": 546,
   "id": "3badba29-d895-48a7-b281-eed7d5a63f15",
   "metadata": {},
   "outputs": [
    {
     "name": "stdout",
     "output_type": "stream",
     "text": [
      "<class 'pandas.core.frame.DataFrame'>\n",
      "RangeIndex: 1309 entries, 0 to 1308\n",
      "Data columns (total 13 columns):\n",
      " #   Column        Non-Null Count  Dtype  \n",
      "---  ------        --------------  -----  \n",
      " 0   PassengerId   1309 non-null   int64  \n",
      " 1   Survived      891 non-null    float64\n",
      " 2   Pclass        1309 non-null   int64  \n",
      " 3   Sex           1309 non-null   object \n",
      " 4   Age           1309 non-null   float64\n",
      " 5   SibSp         1309 non-null   int64  \n",
      " 6   Parch         1309 non-null   int64  \n",
      " 7   Fare          1309 non-null   float64\n",
      " 8   Cabin         1309 non-null   object \n",
      " 9   Embarked      1307 non-null   object \n",
      " 10  FamilySize    1309 non-null   int64  \n",
      " 11  Title         1309 non-null   object \n",
      " 12  Ticket_count  1309 non-null   int64  \n",
      "dtypes: float64(3), int64(6), object(4)\n",
      "memory usage: 133.1+ KB\n"
     ]
    }
   ],
   "source": [
    "df.drop([\n",
    "         'Name',\n",
    "         'Ticket',\n",
    "         # 'Title'\n",
    "        ], axis=1, inplace=True)\n",
    "df.info()"
   ]
  },
  {
   "cell_type": "markdown",
   "id": "0a3dd87e-d210-4ada-ae7c-7bac3ce14c06",
   "metadata": {},
   "source": [
    "## データの可視化"
   ]
  },
  {
   "cell_type": "code",
   "execution_count": 547,
   "id": "61a4bccf-2aef-4c62-9d8b-fa1a8bca679e",
   "metadata": {},
   "outputs": [],
   "source": [
    "train = df.iloc[:len(train),:].copy()\n",
    "train['Survived'] = train['Survived'].astype('int64')"
   ]
  },
  {
   "cell_type": "code",
   "execution_count": 548,
   "id": "bec60e68-bbf4-47c0-bec4-084324059405",
   "metadata": {},
   "outputs": [],
   "source": [
    "test = df.iloc[len(train):,:].copy()\n",
    "test.drop(['Survived'], axis=1, inplace=True)\n",
    "test = test.reset_index(drop=True)"
   ]
  },
  {
   "cell_type": "code",
   "execution_count": 549,
   "id": "cb618b04-95af-4f5e-9a54-0370a6b4e387",
   "metadata": {},
   "outputs": [],
   "source": [
    "# def hide_current_axis(*args, **kwds):\n",
    "#     plt.gca().set_visible(False)\n",
    "\n",
    "# plot = sns.pairplot(train, hue='Survived')\n",
    "# plot.map_upper(hide_current_axis)\n",
    "# plot.savefig('../output/pairplot.png')\n",
    "# plt.show()"
   ]
  },
  {
   "cell_type": "code",
   "execution_count": 550,
   "id": "b45d22d6-49c2-4861-892f-07526201dc76",
   "metadata": {},
   "outputs": [],
   "source": [
    "# import pandas_profiling as pdp\n",
    "# pdp.ProfileReport(train)"
   ]
  },
  {
   "cell_type": "markdown",
   "id": "af67fa71-de87-4d56-b52f-d3164c6577a0",
   "metadata": {},
   "source": [
    "## モデルの学習・予測"
   ]
  },
  {
   "cell_type": "code",
   "execution_count": 551,
   "id": "1a20d597-ff37-4b5f-a5e0-a21c0b3dfa15",
   "metadata": {},
   "outputs": [],
   "source": [
    "X_train = train.drop(['Survived'], axis=1)\n",
    "Y_train = train['Survived']"
   ]
  },
  {
   "cell_type": "code",
   "execution_count": 518,
   "id": "890e35e3-7d8e-4ebe-941a-38aa6a1137ea",
   "metadata": {},
   "outputs": [
    {
     "name": "stdout",
     "output_type": "stream",
     "text": [
      "[20]\tvalid_0's binary_logloss: 0.409659\n",
      "[40]\tvalid_0's binary_logloss: 0.39863\n"
     ]
    },
    {
     "name": "stderr",
     "output_type": "stream",
     "text": [
      "/Users/estyle-085/opt/anaconda3/envs/Kenshu/lib/python3.9/site-packages/lightgbm/sklearn.py:726: UserWarning: 'early_stopping_rounds' argument is deprecated and will be removed in a future release of LightGBM. Pass 'early_stopping()' callback via 'callbacks' argument instead.\n",
      "  _log_warning(\"'early_stopping_rounds' argument is deprecated and will be removed in a future release of LightGBM. \"\n",
      "/Users/estyle-085/opt/anaconda3/envs/Kenshu/lib/python3.9/site-packages/lightgbm/sklearn.py:736: UserWarning: 'verbose' argument is deprecated and will be removed in a future release of LightGBM. Pass 'log_evaluation()' callback via 'callbacks' argument instead.\n",
      "  _log_warning(\"'verbose' argument is deprecated and will be removed in a future release of LightGBM. \"\n",
      "/Users/estyle-085/opt/anaconda3/envs/Kenshu/lib/python3.9/site-packages/lightgbm/basic.py:2065: UserWarning: Using categorical_feature in Dataset.\n",
      "  _log_warning('Using categorical_feature in Dataset.')\n",
      "/Users/estyle-085/opt/anaconda3/envs/Kenshu/lib/python3.9/site-packages/lightgbm/basic.py:2068: UserWarning: categorical_feature in Dataset is overridden.\n",
      "New categorical_feature is ['Cabin', 'Embarked', 'Pclass', 'Sex', 'Title']\n",
      "  _log_warning('categorical_feature in Dataset is overridden.\\n'\n",
      "/Users/estyle-085/opt/anaconda3/envs/Kenshu/lib/python3.9/site-packages/lightgbm/basic.py:1780: UserWarning: Overriding the parameters from Reference Dataset.\n",
      "  _log_warning('Overriding the parameters from Reference Dataset.')\n",
      "/Users/estyle-085/opt/anaconda3/envs/Kenshu/lib/python3.9/site-packages/lightgbm/basic.py:1513: UserWarning: categorical_column in param dict is overridden.\n",
      "  _log_warning(f'{cat_alias} in param dict is overridden.')\n"
     ]
    },
    {
     "data": {
      "text/plain": [
       "LGBMClassifier(max_depth=5, num_leaves=64, objective='binary')"
      ]
     },
     "execution_count": 518,
     "metadata": {},
     "output_type": "execute_result"
    }
   ],
   "source": [
    "train_x, valid_x, train_y, valid_y = train_test_split(X_train, Y_train, test_size=0.33, random_state=0)\n",
    "\n",
    "gbm = lgb.LGBMClassifier(objective='binary',\n",
    "                         num_leaves=64,\n",
    "                         min_child_samples=20,\n",
    "                         max_depth=5,\n",
    "                        )\n",
    "\n",
    "gbm.fit(train_x, train_y, eval_set = [(valid_x, valid_y)],\n",
    "        categorical_feature=[\n",
    "                             #'PassengerId',\n",
    "                             # 'Survived',\n",
    "                             'Pclass',\n",
    "                             'Sex',\n",
    "                             # 'Age',\n",
    "                             # 'SibSp',\n",
    "                             # 'Parch',       \n",
    "                             # 'Ticket', \n",
    "                             # 'Fare', \n",
    "                             'Cabin', \n",
    "                             'Embarked', \n",
    "                             'Title', \n",
    "                             # 'FamilySize'\n",
    "                             # 'Ticket_count'\n",
    "                             ],\n",
    "        early_stopping_rounds=20, verbose=20,\n",
    "       )"
   ]
  },
  {
   "cell_type": "code",
   "execution_count": 519,
   "id": "ebcebc93-e67d-4b42-89be-c883cebd523d",
   "metadata": {},
   "outputs": [
    {
     "name": "stdout",
     "output_type": "stream",
     "text": [
      "score 82.37\n"
     ]
    }
   ],
   "source": [
    "oof = gbm.predict(valid_x, num_iteration=gbm.best_iteration_)\n",
    "print('score',round(accuracy_score(valid_y,oof)*100,2))"
   ]
  },
  {
   "cell_type": "code",
   "execution_count": 520,
   "id": "0085bcb1-17fd-403b-961e-eb4ada3128b5",
   "metadata": {},
   "outputs": [
    {
     "data": {
      "text/plain": [
       "0.284688995215311"
      ]
     },
     "execution_count": 520,
     "metadata": {},
     "output_type": "execute_result"
    }
   ],
   "source": [
    "test_pred = gbm.predict(test, num_iteration=gbm.best_iteration_)\n",
    "test_pred = pd.DataFrame(test_pred,  columns=['Survived'])\n",
    "submission = pd.DataFrame(test['PassengerId'])\n",
    "submission = pd.concat([submission, test_pred], axis=1)\n",
    "submission['Survived'].sum()/submission['Survived'].count()"
   ]
  },
  {
   "cell_type": "code",
   "execution_count": 521,
   "id": "dc858967-b127-4e9d-ade9-a5b3d1a28588",
   "metadata": {},
   "outputs": [
    {
     "data": {
      "text/html": [
       "<div>\n",
       "<style scoped>\n",
       "    .dataframe tbody tr th:only-of-type {\n",
       "        vertical-align: middle;\n",
       "    }\n",
       "\n",
       "    .dataframe tbody tr th {\n",
       "        vertical-align: top;\n",
       "    }\n",
       "\n",
       "    .dataframe thead th {\n",
       "        text-align: right;\n",
       "    }\n",
       "</style>\n",
       "<table border=\"1\" class=\"dataframe\">\n",
       "  <thead>\n",
       "    <tr style=\"text-align: right;\">\n",
       "      <th></th>\n",
       "      <th>特徴</th>\n",
       "      <th>importance</th>\n",
       "    </tr>\n",
       "  </thead>\n",
       "  <tbody>\n",
       "    <tr>\n",
       "      <th>2</th>\n",
       "      <td>Sex</td>\n",
       "      <td>947.352087</td>\n",
       "    </tr>\n",
       "    <tr>\n",
       "      <th>3</th>\n",
       "      <td>Age</td>\n",
       "      <td>396.866202</td>\n",
       "    </tr>\n",
       "    <tr>\n",
       "      <th>1</th>\n",
       "      <td>Pclass</td>\n",
       "      <td>244.762230</td>\n",
       "    </tr>\n",
       "    <tr>\n",
       "      <th>6</th>\n",
       "      <td>Fare</td>\n",
       "      <td>238.276518</td>\n",
       "    </tr>\n",
       "    <tr>\n",
       "      <th>0</th>\n",
       "      <td>PassengerId</td>\n",
       "      <td>185.651881</td>\n",
       "    </tr>\n",
       "    <tr>\n",
       "      <th>11</th>\n",
       "      <td>Ticket_count</td>\n",
       "      <td>95.953556</td>\n",
       "    </tr>\n",
       "    <tr>\n",
       "      <th>10</th>\n",
       "      <td>Title</td>\n",
       "      <td>67.826191</td>\n",
       "    </tr>\n",
       "    <tr>\n",
       "      <th>8</th>\n",
       "      <td>Embarked</td>\n",
       "      <td>61.586114</td>\n",
       "    </tr>\n",
       "    <tr>\n",
       "      <th>9</th>\n",
       "      <td>FamilySize</td>\n",
       "      <td>37.012744</td>\n",
       "    </tr>\n",
       "    <tr>\n",
       "      <th>4</th>\n",
       "      <td>SibSp</td>\n",
       "      <td>16.117198</td>\n",
       "    </tr>\n",
       "    <tr>\n",
       "      <th>7</th>\n",
       "      <td>Cabin</td>\n",
       "      <td>5.134660</td>\n",
       "    </tr>\n",
       "    <tr>\n",
       "      <th>5</th>\n",
       "      <td>Parch</td>\n",
       "      <td>1.692301</td>\n",
       "    </tr>\n",
       "  </tbody>\n",
       "</table>\n",
       "</div>"
      ],
      "text/plain": [
       "              特徴  importance\n",
       "2            Sex  947.352087\n",
       "3            Age  396.866202\n",
       "1         Pclass  244.762230\n",
       "6           Fare  238.276518\n",
       "0    PassengerId  185.651881\n",
       "11  Ticket_count   95.953556\n",
       "10         Title   67.826191\n",
       "8       Embarked   61.586114\n",
       "9     FamilySize   37.012744\n",
       "4          SibSp   16.117198\n",
       "7          Cabin    5.134660\n",
       "5          Parch    1.692301"
      ]
     },
     "execution_count": 521,
     "metadata": {},
     "output_type": "execute_result"
    }
   ],
   "source": [
    "pd.DataFrame({'特徴':X_train.columns,\n",
    "             'importance':gbm.booster_.feature_importance(importance_type='gain')}).sort_values('importance',ascending=False)"
   ]
  },
  {
   "cell_type": "code",
   "execution_count": 522,
   "id": "96c1f736-6f61-464c-8c4e-95582da07c96",
   "metadata": {},
   "outputs": [
    {
     "data": {
      "text/plain": [
       "<AxesSubplot:>"
      ]
     },
     "execution_count": 522,
     "metadata": {},
     "output_type": "execute_result"
    },
    {
     "data": {
      "image/png": "[encoded data removed]",
      "text/plain": [
       "<Figure size 432x288 with 2 Axes>"
      ]
     },
     "metadata": {
      "needs_background": "light"
     },
     "output_type": "display_data"
    }
   ],
   "source": [
    "cm = confusion_matrix(oof,valid_y)\n",
    "cm_matrix = pd.DataFrame(data=cm, columns=['Actual Positive:1', 'Actual Negative:0'], \n",
    "                                 index=['Predict Positive:1', 'Predict Negative:0'])\n",
    "\n",
    "sns.heatmap(cm_matrix, annot=True, fmt='d', cmap='YlGnBu')"
   ]
  },
  {
   "cell_type": "code",
   "execution_count": 523,
   "id": "59177e1f-b6a9-4ed0-96eb-89dd025acdfd",
   "metadata": {},
   "outputs": [],
   "source": [
    "submission.to_csv('submission.csv',index=False)"
   ]
  },
  {
   "cell_type": "code",
   "execution_count": 561,
   "id": "84188727-8e47-45ed-8ace-1defe42cee1c",
   "metadata": {},
   "outputs": [],
   "source": [
    "train.to_csv('train_tableau2.csv',index=False)"
   ]
  },
  {
   "cell_type": "code",
   "execution_count": 559,
   "id": "7aee7aff-c5f0-4baa-8c5b-aea8fdbb3b40",
   "metadata": {},
   "outputs": [
    {
     "data": {
      "text/html": [
       "<div>\n",
       "<style scoped>\n",
       "    .dataframe tbody tr th:only-of-type {\n",
       "        vertical-align: middle;\n",
       "    }\n",
       "\n",
       "    .dataframe tbody tr th {\n",
       "        vertical-align: top;\n",
       "    }\n",
       "\n",
       "    .dataframe thead th {\n",
       "        text-align: right;\n",
       "    }\n",
       "</style>\n",
       "<table border=\"1\" class=\"dataframe\">\n",
       "  <thead>\n",
       "    <tr style=\"text-align: right;\">\n",
       "      <th></th>\n",
       "      <th>PassengerId</th>\n",
       "      <th>Survived</th>\n",
       "      <th>Pclass</th>\n",
       "      <th>Sex</th>\n",
       "      <th>Age</th>\n",
       "      <th>SibSp</th>\n",
       "      <th>Parch</th>\n",
       "      <th>Fare</th>\n",
       "      <th>Cabin</th>\n",
       "      <th>Embarked</th>\n",
       "      <th>FamilySize</th>\n",
       "      <th>Title</th>\n",
       "      <th>Ticket_count</th>\n",
       "    </tr>\n",
       "  </thead>\n",
       "  <tbody>\n",
       "    <tr>\n",
       "      <th>0</th>\n",
       "      <td>1</td>\n",
       "      <td>0</td>\n",
       "      <td>3</td>\n",
       "      <td>male</td>\n",
       "      <td>22.0</td>\n",
       "      <td>1</td>\n",
       "      <td>0</td>\n",
       "      <td>7.2500</td>\n",
       "      <td>U</td>\n",
       "      <td>S</td>\n",
       "      <td>2</td>\n",
       "      <td>Mr</td>\n",
       "      <td>1</td>\n",
       "    </tr>\n",
       "    <tr>\n",
       "      <th>1</th>\n",
       "      <td>2</td>\n",
       "      <td>1</td>\n",
       "      <td>1</td>\n",
       "      <td>female</td>\n",
       "      <td>38.0</td>\n",
       "      <td>1</td>\n",
       "      <td>0</td>\n",
       "      <td>71.2833</td>\n",
       "      <td>C</td>\n",
       "      <td>C</td>\n",
       "      <td>2</td>\n",
       "      <td>Mrs</td>\n",
       "      <td>2</td>\n",
       "    </tr>\n",
       "    <tr>\n",
       "      <th>2</th>\n",
       "      <td>3</td>\n",
       "      <td>1</td>\n",
       "      <td>3</td>\n",
       "      <td>female</td>\n",
       "      <td>26.0</td>\n",
       "      <td>0</td>\n",
       "      <td>0</td>\n",
       "      <td>7.9250</td>\n",
       "      <td>U</td>\n",
       "      <td>S</td>\n",
       "      <td>1</td>\n",
       "      <td>Miss</td>\n",
       "      <td>1</td>\n",
       "    </tr>\n",
       "    <tr>\n",
       "      <th>3</th>\n",
       "      <td>4</td>\n",
       "      <td>1</td>\n",
       "      <td>1</td>\n",
       "      <td>female</td>\n",
       "      <td>35.0</td>\n",
       "      <td>1</td>\n",
       "      <td>0</td>\n",
       "      <td>53.1000</td>\n",
       "      <td>C</td>\n",
       "      <td>S</td>\n",
       "      <td>2</td>\n",
       "      <td>Mrs</td>\n",
       "      <td>2</td>\n",
       "    </tr>\n",
       "    <tr>\n",
       "      <th>4</th>\n",
       "      <td>5</td>\n",
       "      <td>0</td>\n",
       "      <td>3</td>\n",
       "      <td>male</td>\n",
       "      <td>35.0</td>\n",
       "      <td>0</td>\n",
       "      <td>0</td>\n",
       "      <td>8.0500</td>\n",
       "      <td>U</td>\n",
       "      <td>S</td>\n",
       "      <td>1</td>\n",
       "      <td>Mr</td>\n",
       "      <td>1</td>\n",
       "    </tr>\n",
       "  </tbody>\n",
       "</table>\n",
       "</div>"
      ],
      "text/plain": [
       "   PassengerId  Survived  Pclass     Sex   Age  SibSp  Parch     Fare Cabin  \\\n",
       "0            1         0       3    male  22.0      1      0   7.2500     U   \n",
       "1            2         1       1  female  38.0      1      0  71.2833     C   \n",
       "2            3         1       3  female  26.0      0      0   7.9250     U   \n",
       "3            4         1       1  female  35.0      1      0  53.1000     C   \n",
       "4            5         0       3    male  35.0      0      0   8.0500     U   \n",
       "\n",
       "  Embarked  FamilySize Title  Ticket_count  \n",
       "0        S           2    Mr             1  \n",
       "1        C           2   Mrs             2  \n",
       "2        S           1  Miss             1  \n",
       "3        S           2   Mrs             2  \n",
       "4        S           1    Mr             1  "
      ]
     },
     "execution_count": 559,
     "metadata": {},
     "output_type": "execute_result"
    }
   ],
   "source": [
    "train.head()"
   ]
  },
  {
   "cell_type": "code",
   "execution_count": 560,
   "id": "e3dfea5e-e1a0-4151-930d-eb31564ecbca",
   "metadata": {},
   "outputs": [
    {
     "data": {
      "text/plain": [
       "PassengerId       0\n",
       "Survived        418\n",
       "Pclass            0\n",
       "Sex               0\n",
       "Age               0\n",
       "SibSp             0\n",
       "Parch             0\n",
       "Fare              0\n",
       "Cabin             0\n",
       "Embarked          2\n",
       "FamilySize        0\n",
       "Title             0\n",
       "Ticket_count      0\n",
       "dtype: int64"
      ]
     },
     "execution_count": 560,
     "metadata": {},
     "output_type": "execute_result"
    }
   ],
   "source": [
    "df.isnull().sum()"
   ]
  },
  {
   "cell_type": "code",
   "execution_count": null,
   "id": "64362ea1-18c3-44f7-9b71-f8516c372f1f",
   "metadata": {},
   "outputs": [],
   "source": []
  }
 ],
 "metadata": {
  "kernelspec": {
   "display_name": "Python 3 (ipykernel)",
   "language": "python",
   "name": "python3"
  },
  "language_info": {
   "codemirror_mode": {
    "name": "ipython",
    "version": 3
   },
   "file_extension": ".py",
   "mimetype": "text/x-python",
   "name": "python",
   "nbconvert_exporter": "python",
   "pygments_lexer": "ipython3",
   "version": "3.9.7"
  }
 },
 "nbformat": 4,
 "nbformat_minor": 5
}
